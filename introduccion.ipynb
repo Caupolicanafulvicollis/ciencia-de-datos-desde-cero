{
 "cells": [
  {
   "cell_type": "markdown",
   "metadata": {},
   "source": [
    "# Localizar conectores claves"
   ]
  },
  {
   "cell_type": "markdown",
   "metadata": {},
   "source": [
    "consiste en una lista de ususarios que cada esta identificado con un id y su name."
   ]
  },
  {
   "cell_type": "code",
   "execution_count": 3,
   "metadata": {},
   "outputs": [],
   "source": [
    "users= [\n",
    "{ \"id\": 0, \"name\": \"Hero\" },\n",
    "{ \"id\": 1, \"name\": \"Dunn\" },\n",
    "{ \"id\": 2, \"name\": \"Sue\" },\n",
    "{ \"id\": 3, \"name\": \"Chi\" },\n",
    "{ \"id\": 4, \"name\": \"Thor\" },\n",
    "{ \"id\": 5, \"name\": \"Clive\" },\n",
    "{ \"id\": 6, \"name\": \"Hicks\" },\n",
    "{ \"id\": 7, \"name\": \"Devin\" },\n",
    "{ \"id\": 8, \"name\": \"Kate\" },\n",
    "{ \"id\": 9, \"name\": \"Klein\" }\n",
    "]"
   ]
  },
  {
   "cell_type": "markdown",
   "metadata": {},
   "source": [
    "cada uno tiene una red de contactos represetnado como una lista de pares de identificadores"
   ]
  },
  {
   "cell_type": "code",
   "execution_count": 4,
   "metadata": {},
   "outputs": [],
   "source": [
    "friendship_pairs = [(0, 1), (0, 2), (1, 2), (1, 3), (2, 3), (3, 4), (4, 5), (5, 6), (5, 7), (6, 8), (7, 8), (8, 9)]"
   ]
  },
  {
   "cell_type": "code",
   "execution_count": 8,
   "metadata": {},
   "outputs": [
    {
     "name": "stdout",
     "output_type": "stream",
     "text": [
      "{0: [], 1: [], 2: [], 3: [], 4: [], 5: [], 6: [], 7: [], 8: [], 9: []}\n"
     ]
    }
   ],
   "source": [
    "#inicializar el dict con una lista vacia para cada id de usuarios\n",
    "friendships={user[\"id\"]: [] for user in users}\n",
    "print(friendships)"
   ]
  },
  {
   "cell_type": "code",
   "execution_count": 9,
   "metadata": {},
   "outputs": [
    {
     "name": "stdout",
     "output_type": "stream",
     "text": [
      "{0: [1, 2], 1: [0, 2, 3], 2: [0, 1, 3], 3: [1, 2, 4], 4: [3, 5], 5: [4, 6, 7], 6: [5, 8], 7: [5, 8], 8: [6, 7, 9], 9: [8]}\n"
     ]
    }
   ],
   "source": [
    "#Y pasar por todos los pares de amistad para llenarlo\n",
    "for i,j in friendship_pairs:\n",
    "    friendships[i].append(j) #agregar j como un amigo del usuario i \n",
    "    friendships[j].append(i) #agregar i como un amigo del usuario j \n",
    "print(friendships)"
   ]
  },
  {
   "cell_type": "markdown",
   "metadata": {},
   "source": [
    "Una vez desarrollada todas las amistades que exsiten, se identificar el numero medio de conexiones. "
   ]
  },
  {
   "cell_type": "code",
   "execution_count": 18,
   "metadata": {},
   "outputs": [
    {
     "name": "stdout",
     "output_type": "stream",
     "text": [
      "Se entrega el numero total de conecciones que es 24\n"
     ]
    }
   ],
   "source": [
    "def number_of_friends(user):\n",
    "    #Cuantos amigos por usuarios hay?\n",
    "    user_id=user[\"id\"]\n",
    "    friend_ids=friendships[user_id]\n",
    "    return len(friend_ids)\n",
    "\n",
    "total_conections=sum(number_of_friends(user) for user in users)\n",
    "print(f\"Se entrega el numero total de conecciones que es {total_conections}\")"
   ]
  },
  {
   "cell_type": "markdown",
   "metadata": {},
   "source": [
    "y para conocer el nunero medio de conexiones lo dividimos por el numero de usuarios"
   ]
  },
  {
   "cell_type": "code",
   "execution_count": 24,
   "metadata": {},
   "outputs": [
    {
     "data": {
      "text/plain": [
       "'El numero totoal medio de conexuiones es 2.4'"
      ]
     },
     "execution_count": 24,
     "metadata": {},
     "output_type": "execute_result"
    }
   ],
   "source": [
    "def median_conections(self):\n",
    "    num_users=len(users) #longitud de la lista de ususarios\n",
    "    avg_connections=total_conections / num_users\n",
    "    return f\"El numero totoal medio de conexiones es {avg_connections}\"\n",
    "\n",
    "median_conections(users)"
   ]
  },
  {
   "cell_type": "markdown",
   "metadata": {},
   "source": [
    "Identificar las personas mas conectadas"
   ]
  },
  {
   "cell_type": "code",
   "execution_count": 32,
   "metadata": {},
   "outputs": [
    {
     "name": "stdout",
     "output_type": "stream",
     "text": [
      "[(0, 2), (1, 3), (2, 3), (3, 3), (4, 2), (5, 3), (6, 2), (7, 2), (8, 3), (9, 1)]\n",
      "Cada para es (user_id, num_friends)\n",
      "[(1, 3), (2, 3), (3, 3), (5, 3), (8, 3), (0, 2), (4, 2), (6, 2), (7, 2), (9, 1)]\n"
     ]
    }
   ],
   "source": [
    "#Crea una lista (user_id, number_of_firneds)\n",
    "number_friends_by_id=[(user[\"id\"], number_of_friends(user)) for user in users]\n",
    "print(number_friends_by_id)\n",
    "number_friends_by_id.sort(                             #ordena la lista\n",
    "    key=lambda id_and_friends: id_and_friends[1],   #por num_friends\n",
    "    reverse=True                                    #del mayor a menor\n",
    ")\n",
    "print(\"Cada para es (user_id, num_friends)\")\n",
    "print(number_friends_by_id)"
   ]
  },
  {
   "cell_type": "markdown",
   "metadata": {},
   "source": [
    "con esto se puede saber cuales son las personas centrales para la red calculando la metrica de la centralidad de grado de la red. "
   ]
  },
  {
   "cell_type": "markdown",
   "metadata": {},
   "source": [
    "# Cientificos de datos que podria conocer"
   ]
  },
  {
   "cell_type": "markdown",
   "metadata": {},
   "source": [
    "se solicita desarrollar un sugeridor \"cientificos de datos que podria conocer\"\n",
    "Lo primero que se ocurre es sugerir que los usuarios podrian conocer a los amigos de sus amigos. el codigo para vrias vaces por sus amigos y recoge los amigos de los amigos"
   ]
  },
  {
   "cell_type": "code",
   "execution_count": 41,
   "metadata": {},
   "outputs": [
    {
     "name": "stdout",
     "output_type": "stream",
     "text": [
      "Los amigos de los amigos de Hero son: [0, 2, 3, 0, 1, 3]\n",
      "Los amigos de los amigos de Dunn son: [1, 2, 0, 1, 3, 1, 2, 4]\n",
      "Los amigos de los amigos de Sue son: [1, 2, 0, 2, 3, 1, 2, 4]\n",
      "Los amigos de los amigos de Chi son: [0, 2, 3, 0, 1, 3, 3, 5]\n",
      "Los amigos de los amigos de Thor son: [1, 2, 4, 4, 6, 7]\n",
      "Los amigos de los amigos de Clive son: [3, 5, 5, 8, 5, 8]\n",
      "Los amigos de los amigos de Hicks son: [4, 6, 7, 6, 7, 9]\n",
      "Los amigos de los amigos de Devin son: [4, 6, 7, 6, 7, 9]\n",
      "Los amigos de los amigos de Kate son: [5, 8, 5, 8, 8]\n",
      "Los amigos de los amigos de Klein son: [6, 7, 9]\n"
     ]
    }
   ],
   "source": [
    "def foaf_ids_bad(user):\n",
    "    return[foaf_id\n",
    "    for friend_id in friendships[user[\"id\"]]\n",
    "        for foaf_id in friendships[friend_id]]\n",
    "for i in range(len(friendships)):\n",
    "    print(f\"Los amigos de los amigos de {users[i]['name']} son: {foaf_ids_bad(users[i])}\")\n"
   ]
  },
  {
   "cell_type": "markdown",
   "metadata": {},
   "source": []
  }
 ],
 "metadata": {
  "kernelspec": {
   "display_name": "entorno",
   "language": "python",
   "name": "python3"
  },
  "language_info": {
   "codemirror_mode": {
    "name": "ipython",
    "version": 3
   },
   "file_extension": ".py",
   "mimetype": "text/x-python",
   "name": "python",
   "nbconvert_exporter": "python",
   "pygments_lexer": "ipython3",
   "version": "3.12.2"
  }
 },
 "nbformat": 4,
 "nbformat_minor": 2
}
